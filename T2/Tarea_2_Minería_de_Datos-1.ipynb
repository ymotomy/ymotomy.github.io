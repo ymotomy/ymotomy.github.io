{
  "cells": [
    {
      "cell_type": "markdown",
      "id": "a4815f77",
      "metadata": {
        "id": "a4815f77"
      },
      "source": [
        "Pontificia Universidad Católica de Chile <br>\n",
        "Departamento de Ciencia de la Computación <br>\n",
        "IIC2433 - Minería de Datos <br>\n",
        "Primer Semestre 2025\n",
        "<br>\n",
        "\n",
        "<h1><center>Tarea 2: Isolation Forest, HAC, DBSCAN y HDBSCAN </center></h1>\n",
        "<h3><center>Tomás Romero Aránguiz </center></h3>\n",
        "\n",
        "        Profesor: Marcelo Mendoza<br>\n",
        "        Ayudantes encargados: Itzae Flores, Claudia González y Eduardo Salinas.<br>\n",
        "        Fecha de entrega: 23 de abril del 2025."
      ]
    },
    {
      "cell_type": "markdown",
      "id": "76bd8444",
      "metadata": {
        "id": "76bd8444"
      },
      "source": [
        "## Indicaciones\n",
        "\n",
        "Deberás entregar **SOLO** el archivo .ipynb en el buzón respectivo en canvas.\n",
        "\n",
        "**IMPORTANTE**:\n",
        "- Se te dará puntaje tanto por código como por la manera en la que respondas las preguntas planteadas.\n",
        "- El notebook debe tener todas las celdas de código ejecutadas.\n",
        "- Para las preguntas de desarrollo se espera un análisis profundo, no una respuesta superficial.\n",
        "- El carácter de esta tarea es **INDIVIDUAL**. Cualquier instancia de copia resultará en un 1,1 como nota de curso.\n",
        "\n",
        "---"
      ]
    },
    {
      "cell_type": "markdown",
      "id": "b643f80e",
      "metadata": {
        "id": "b643f80e"
      },
      "source": [
        "## Librerías"
      ]
    },
    {
      "cell_type": "code",
      "execution_count": 180,
      "id": "6cb05ac7",
      "metadata": {
        "id": "6cb05ac7"
      },
      "outputs": [],
      "source": [
        "##Importa acá las librerias que vayas a utilizar\n",
        "## De ser necesario, utiliza el comando !pip install a aquellas librerias o modulos que no se encuentren instalados, como puede ser HDBSCAN.\n",
        "import numpy as np\n",
        "import matplotlib.pyplot as plt\n",
        "import pandas as pd\n",
        "import seaborn as sns\n",
        "\n",
        "from random import random\n",
        "from matplotlib import pyplot as plt    \n",
        "\n",
        "from scipy.cluster.hierarchy import dendrogram\n",
        "from sklearn import preprocessing\n",
        "from sklearn.preprocessing import OneHotEncoder, minmax_scale\n",
        "from sklearn.decomposition import PCA\n",
        "from sklearn import preprocessing\n",
        "from sklearn.neighbors import NearestNeighbors\n",
        "from sklearn.model_selection import train_test_split\n",
        "from sklearn.metrics import classification_report, silhouette_score\n",
        "from sklearn.cluster import AgglomerativeClustering\n",
        "from sklearn.cluster import DBSCAN, cluster_optics_dbscan\n",
        "from sklearn.ensemble import IsolationForest\n",
        "# from sklearn.cluster import , HDBSCAN\n",
        "from sklearn.mixture import GaussianMixture\n",
        "\n",
        "\n"
      ]
    },
    {
      "cell_type": "markdown",
      "id": "bf5c9480",
      "metadata": {
        "id": "bf5c9480"
      },
      "source": [
        "El siguiente codigo sirve para importar HDBSCAN en el caso de que les arroje error importar desde sklearn."
      ]
    },
    {
      "cell_type": "code",
      "execution_count": 181,
      "id": "b2acb4f2",
      "metadata": {
        "id": "b2acb4f2"
      },
      "outputs": [],
      "source": [
        "# from hdbscan import HDBSCAN"
      ]
    },
    {
      "cell_type": "markdown",
      "id": "42b2e7ca",
      "metadata": {
        "id": "42b2e7ca"
      },
      "source": [
        "# Introducción"
      ]
    },
    {
      "cell_type": "markdown",
      "id": "a7422b03",
      "metadata": {
        "id": "a7422b03"
      },
      "source": [
        "El conjunto de datos corresponde a características extraidas de imagenes de distintos clientes que están buscando pedir un crédito a un banco. Se trabaja con este dataset para predecir si el cliente aceptó o no el último préstamo ofrecido (dado por la columna \"Personal Loan\") por medio del uso de HAC, DBSCAN, HDBSCAN e Isolation Forest.\n",
        "\n",
        "En esta tarea deberás trabajar con el dataset Imbalanced Personal Bank Loan Classification que puedes descargar de [Kaggle] (https://www.kaggle.com/code/farzadnekouei/imbalanced-personal-bank-loan-classification) o Canvas."
      ]
    },
    {
      "cell_type": "markdown",
      "id": "46d379d2",
      "metadata": {
        "id": "46d379d2"
      },
      "source": [
        "# Parte 1: Carga y Preprocesamiento de Datos (10 puntos)"
      ]
    },
    {
      "cell_type": "markdown",
      "id": "ee3e1cc5",
      "metadata": {
        "id": "ee3e1cc5"
      },
      "source": [
        "En esta primera parte se debe cargar el dataset y luego describir el comportamiento de algunas variables de interés. Posteriormente, debe realizar el proceso de normalización de los datos."
      ]
    },
    {
      "cell_type": "markdown",
      "id": "447b6699",
      "metadata": {
        "id": "447b6699"
      },
      "source": [
        "### 1.1 Carga de datos (1 puntos)"
      ]
    },
    {
      "cell_type": "code",
      "execution_count": 182,
      "id": "08faf3ad",
      "metadata": {},
      "outputs": [
        {
          "data": {
            "text/html": [
              "<div>\n",
              "<style scoped>\n",
              "    .dataframe tbody tr th:only-of-type {\n",
              "        vertical-align: middle;\n",
              "    }\n",
              "\n",
              "    .dataframe tbody tr th {\n",
              "        vertical-align: top;\n",
              "    }\n",
              "\n",
              "    .dataframe thead th {\n",
              "        text-align: right;\n",
              "    }\n",
              "</style>\n",
              "<table border=\"1\" class=\"dataframe\">\n",
              "  <thead>\n",
              "    <tr style=\"text-align: right;\">\n",
              "      <th></th>\n",
              "      <th>ID</th>\n",
              "      <th>Age</th>\n",
              "      <th>Experience</th>\n",
              "      <th>Income</th>\n",
              "      <th>ZIP Code</th>\n",
              "      <th>Family</th>\n",
              "      <th>CCAvg</th>\n",
              "      <th>Education</th>\n",
              "      <th>Mortgage</th>\n",
              "      <th>Personal Loan</th>\n",
              "      <th>Securities Account</th>\n",
              "      <th>CD Account</th>\n",
              "      <th>Online</th>\n",
              "      <th>CreditCard</th>\n",
              "    </tr>\n",
              "  </thead>\n",
              "  <tbody>\n",
              "    <tr>\n",
              "      <th>0</th>\n",
              "      <td>1</td>\n",
              "      <td>25</td>\n",
              "      <td>1</td>\n",
              "      <td>49</td>\n",
              "      <td>91107</td>\n",
              "      <td>4</td>\n",
              "      <td>1.6</td>\n",
              "      <td>1</td>\n",
              "      <td>0</td>\n",
              "      <td>0</td>\n",
              "      <td>1</td>\n",
              "      <td>0</td>\n",
              "      <td>0</td>\n",
              "      <td>0</td>\n",
              "    </tr>\n",
              "    <tr>\n",
              "      <th>1</th>\n",
              "      <td>2</td>\n",
              "      <td>45</td>\n",
              "      <td>19</td>\n",
              "      <td>34</td>\n",
              "      <td>90089</td>\n",
              "      <td>3</td>\n",
              "      <td>1.5</td>\n",
              "      <td>1</td>\n",
              "      <td>0</td>\n",
              "      <td>0</td>\n",
              "      <td>1</td>\n",
              "      <td>0</td>\n",
              "      <td>0</td>\n",
              "      <td>0</td>\n",
              "    </tr>\n",
              "    <tr>\n",
              "      <th>2</th>\n",
              "      <td>3</td>\n",
              "      <td>39</td>\n",
              "      <td>15</td>\n",
              "      <td>11</td>\n",
              "      <td>94720</td>\n",
              "      <td>1</td>\n",
              "      <td>1.0</td>\n",
              "      <td>1</td>\n",
              "      <td>0</td>\n",
              "      <td>0</td>\n",
              "      <td>0</td>\n",
              "      <td>0</td>\n",
              "      <td>0</td>\n",
              "      <td>0</td>\n",
              "    </tr>\n",
              "    <tr>\n",
              "      <th>3</th>\n",
              "      <td>4</td>\n",
              "      <td>35</td>\n",
              "      <td>9</td>\n",
              "      <td>100</td>\n",
              "      <td>94112</td>\n",
              "      <td>1</td>\n",
              "      <td>2.7</td>\n",
              "      <td>2</td>\n",
              "      <td>0</td>\n",
              "      <td>0</td>\n",
              "      <td>0</td>\n",
              "      <td>0</td>\n",
              "      <td>0</td>\n",
              "      <td>0</td>\n",
              "    </tr>\n",
              "    <tr>\n",
              "      <th>4</th>\n",
              "      <td>5</td>\n",
              "      <td>35</td>\n",
              "      <td>8</td>\n",
              "      <td>45</td>\n",
              "      <td>91330</td>\n",
              "      <td>4</td>\n",
              "      <td>1.0</td>\n",
              "      <td>2</td>\n",
              "      <td>0</td>\n",
              "      <td>0</td>\n",
              "      <td>0</td>\n",
              "      <td>0</td>\n",
              "      <td>0</td>\n",
              "      <td>1</td>\n",
              "    </tr>\n",
              "  </tbody>\n",
              "</table>\n",
              "</div>"
            ],
            "text/plain": [
              "   ID  Age  Experience  Income  ZIP Code  Family  CCAvg  Education  Mortgage  \\\n",
              "0   1   25           1      49     91107       4    1.6          1         0   \n",
              "1   2   45          19      34     90089       3    1.5          1         0   \n",
              "2   3   39          15      11     94720       1    1.0          1         0   \n",
              "3   4   35           9     100     94112       1    2.7          2         0   \n",
              "4   5   35           8      45     91330       4    1.0          2         0   \n",
              "\n",
              "   Personal Loan  Securities Account  CD Account  Online  CreditCard  \n",
              "0              0                   1           0       0           0  \n",
              "1              0                   1           0       0           0  \n",
              "2              0                   0           0       0           0  \n",
              "3              0                   0           0       0           0  \n",
              "4              0                   0           0       0           1  "
            ]
          },
          "execution_count": 182,
          "metadata": {},
          "output_type": "execute_result"
        }
      ],
      "source": [
        "df = pd.read_excel('Bank_Personal_Loan_Modelling.xlsx', sheet_name='Data')\n",
        "df.head()"
      ]
    },
    {
      "cell_type": "code",
      "execution_count": 183,
      "id": "825e1bfe",
      "metadata": {},
      "outputs": [],
      "source": [
        "descripcion = pd.read_excel('Bank_Personal_Loan_Modelling.xlsx', sheet_name='Description', header=None)\n",
        "descripcion = descripcion[[1,2]]\n",
        "descripcion.dropna(inplace=True)"
      ]
    },
    {
      "cell_type": "markdown",
      "id": "f60cbb26",
      "metadata": {
        "id": "f60cbb26"
      },
      "source": [
        "### 1.2 Descripcion del Dataset (5 puntos)"
      ]
    },
    {
      "cell_type": "markdown",
      "id": "d0e69aea",
      "metadata": {
        "id": "d0e69aea"
      },
      "source": [
        "#### 1.2.1 Describa brevemente cuantas columnas tiene el dataset y en que consisten las columna del dataset entregado (1 puntos)"
      ]
    },
    {
      "cell_type": "code",
      "execution_count": 184,
      "id": "7f8117b0",
      "metadata": {},
      "outputs": [
        {
          "name": "stdout",
          "output_type": "stream",
          "text": [
            "(5000, 14)\n",
            "ID: Customer ID\n",
            "AGE: Customer's age in completed years\n",
            "EXPERIENCE: #years of professional experience\n",
            "INCOME: Annual income of the customer ($000)\n",
            "ZIPCODE: Home Address ZIP code.\n",
            "FAMILY: Family size of the customer\n",
            "CCAVG: Avg. spending on credit cards per month ($000)\n",
            "EDUCATION: Education Level. 1: Undergrad; 2: Graduate; 3: Advanced/Professional\n",
            "MORTGAGE: Value of house mortgage if any. ($000)\n",
            "PERSONAL LOAN: Did this customer accept the personal loan offered in the last campaign?\n",
            "SECURITIES ACCOUNT: Does the customer have a securities account with the bank?\n",
            "CD ACCOUNT: Does the customer have a certificate of deposit (CD) account with the bank?\n",
            "ONLINE: Does the customer use internet banking facilities?\n",
            "CREDITCARD: Does the customer use a credit card issued by UniversalBank?\n"
          ]
        }
      ],
      "source": [
        "print(df.shape)\n",
        "for fila in descripcion.iterrows():\n",
        "    print(f\"{fila[1][1].upper()}: {fila[1][2]}\")"
      ]
    },
    {
      "cell_type": "markdown",
      "id": "e6c43972",
      "metadata": {
        "id": "e6c43972"
      },
      "source": [
        "**Respuesta:** \n",
        "El dataset cuenta con 14 columnas, las cuales son:\n",
        "- **ID**: Identificador único.\n",
        "- **AGE**: Edad.\n",
        "- **EXPERIENCE**: Años de experiencia profesional.\n",
        "- **INCOME**: Ingreso anual (en miles de dólares).\n",
        "- **ZIPCODE**: Código postal del domicilio.\n",
        "- **FAMILY**: Tamaño del grupo familiar.\n",
        "- **CCAVG**: Gasto promedio mensual en tarjetas de crédito (en miles de dólares).\n",
        "- **EDUCATION**: Nivel educativo. 1: Pregrado; 2: Posgrado; 3: Avanzado/Profesional.\n",
        "- **MORTGAGE**: Valor de la hipoteca de la vivienda, si existe (en miles de dólares).\n",
        "- **PERSONAL LOAN**: ¿Aceptó el préstamo personal ofrecido en la última campaña?\n",
        "- **SECURITIES ACCOUNT**: ¿Tiene cuenta de valores con el banco?\n",
        "- **CD ACCOUNT**: ¿Tiene cuenta de certificado de depósito (CD) con el banco?\n",
        "- **ONLINE**: ¿Usa servicios de banca por internet?\n",
        "- **CREDITCARD**: ¿Usa tarjeta de crédito emitida por UniversalBank?\n"
      ]
    },
    {
      "cell_type": "markdown",
      "id": "0cea5024",
      "metadata": {
        "id": "0cea5024"
      },
      "source": [
        "1.2.2 ¿Es posible en este dataset eliminar columnas sin afectar de manera significativa los datos? ¿Por qué? (2 puntos)"
      ]
    },
    {
      "cell_type": "markdown",
      "id": "bb7bf409",
      "metadata": {
        "id": "bb7bf409"
      },
      "source": [
        "**Respuesta:** Creo que es posible eliminar tres columnas sin afectar de manera significativa los datos. Estas serían el *ID*, *ZIPCODE* y *ONLINE*, porque no creo que sean relevantes para el modelo el identificador del cliente, su locación y si utiliza la banca online, ya que es irrelevante para los modelos quien es el cliente. El ZIPCODE, al menos que se haga un estudio geogrefico, no tendra mmucha relacion con nuestro objetivo. Y ONLINE ya que una persona de edad que no utilice estos medios será igual de responsable que otra que si lo utilice."
      ]
    },
    {
      "cell_type": "code",
      "execution_count": 185,
      "id": "2d0532ac",
      "metadata": {},
      "outputs": [],
      "source": [
        "df = df.drop(columns=['ID', 'ZIP Code', 'Online'])"
      ]
    },
    {
      "cell_type": "markdown",
      "id": "ab3a23e9",
      "metadata": {
        "id": "ab3a23e9"
      },
      "source": [
        "#### 1.2.3 ¿Por qué crees que es relevante trabajar estos datos? Averigua 3 posibles usos en que trabajar los datos de esta forma podría ser útil para problemas que resuelven las organizaciones (2 puntos)\n",
        "\n",
        "**Respuesta:** Es importante trabajar con estos datos ya que nos poermite extraer informacion de comportamiento, perfiles y detectar anomalias en los clientes. Tres posibles usos en los que aplicar estos tratamientos de datos son:\n",
        "- Segmentacion de clientes:  Se normalizan las features y se reduce la dimensionalidad, para luego crear clusters evitando sesgos. Esto permite crear grupos para campañas personalizadas.\n",
        "- Detección de Fraudes: Se aplican algortimos como Isolation Forest para analizar comportamientos atipicos y transacciones, normalizando datos y filtrando ruido. Se utiliza para identificar patrones sospechosos.\n",
        "- Gestion de riesos crediticios: Se depuran outliers y se cosifican las variables categorias antes de utilizar HDBSCAN para perfilar clientes segun su riesgo. Clasifica a los solicitantes de prestamos en diferentes grupos basados en su historial y comportamiento"
      ]
    },
    {
      "cell_type": "markdown",
      "id": "b29f3f87",
      "metadata": {
        "id": "b29f3f87"
      },
      "source": [
        "### 1.3 Determinación de valores nulos (1 punto)"
      ]
    },
    {
      "cell_type": "markdown",
      "id": "c8aa52d2",
      "metadata": {
        "id": "c8aa52d2"
      },
      "source": [
        "Determina si existen datos y/o valores nulos presentes en el dataset. En caso de que existan, realiza el tratamiento pertinente."
      ]
    },
    {
      "cell_type": "code",
      "execution_count": 186,
      "id": "057e4e27",
      "metadata": {},
      "outputs": [
        {
          "data": {
            "text/plain": [
              "Age                   5000\n",
              "Experience            5000\n",
              "Income                5000\n",
              "Family                5000\n",
              "CCAvg                 5000\n",
              "Education             5000\n",
              "Mortgage              5000\n",
              "Personal Loan         5000\n",
              "Securities Account    5000\n",
              "CD Account            5000\n",
              "CreditCard            5000\n",
              "dtype: int64"
            ]
          },
          "execution_count": 186,
          "metadata": {},
          "output_type": "execute_result"
        }
      ],
      "source": [
        "df.notna().sum()"
      ]
    },
    {
      "cell_type": "markdown",
      "id": "b1e9cded",
      "metadata": {
        "id": "b1e9cded"
      },
      "source": [
        "**Respuesta:** Podemos ver que no hay datos nulos, por lo tanto no reciben este tratamiento"
      ]
    },
    {
      "cell_type": "markdown",
      "id": "4c56b96e",
      "metadata": {
        "id": "4c56b96e"
      },
      "source": [
        "### 1.4 Manejo del Dataset (2 puntos)\n",
        "\n",
        "Normaliza los valores de las columnas del dataset. ¿Por qué esto es importante para el análisis?"
      ]
    },
    {
      "cell_type": "code",
      "execution_count": 187,
      "id": "11e01100",
      "metadata": {},
      "outputs": [
        {
          "data": {
            "text/html": [
              "<div>\n",
              "<style scoped>\n",
              "    .dataframe tbody tr th:only-of-type {\n",
              "        vertical-align: middle;\n",
              "    }\n",
              "\n",
              "    .dataframe tbody tr th {\n",
              "        vertical-align: top;\n",
              "    }\n",
              "\n",
              "    .dataframe thead th {\n",
              "        text-align: right;\n",
              "    }\n",
              "</style>\n",
              "<table border=\"1\" class=\"dataframe\">\n",
              "  <thead>\n",
              "    <tr style=\"text-align: right;\">\n",
              "      <th></th>\n",
              "      <th>Age</th>\n",
              "      <th>Experience</th>\n",
              "      <th>Income</th>\n",
              "      <th>Family</th>\n",
              "      <th>CCAvg</th>\n",
              "      <th>Education</th>\n",
              "      <th>Mortgage</th>\n",
              "      <th>Personal Loan</th>\n",
              "      <th>Securities Account</th>\n",
              "      <th>CD Account</th>\n",
              "      <th>CreditCard</th>\n",
              "    </tr>\n",
              "  </thead>\n",
              "  <tbody>\n",
              "    <tr>\n",
              "      <th>0</th>\n",
              "      <td>25</td>\n",
              "      <td>0.086957</td>\n",
              "      <td>0.189815</td>\n",
              "      <td>1.000000</td>\n",
              "      <td>0.16</td>\n",
              "      <td>1</td>\n",
              "      <td>0.000000</td>\n",
              "      <td>0</td>\n",
              "      <td>1</td>\n",
              "      <td>0</td>\n",
              "      <td>0</td>\n",
              "    </tr>\n",
              "    <tr>\n",
              "      <th>1</th>\n",
              "      <td>45</td>\n",
              "      <td>0.478261</td>\n",
              "      <td>0.120370</td>\n",
              "      <td>0.666667</td>\n",
              "      <td>0.15</td>\n",
              "      <td>1</td>\n",
              "      <td>0.000000</td>\n",
              "      <td>0</td>\n",
              "      <td>1</td>\n",
              "      <td>0</td>\n",
              "      <td>0</td>\n",
              "    </tr>\n",
              "    <tr>\n",
              "      <th>2</th>\n",
              "      <td>39</td>\n",
              "      <td>0.391304</td>\n",
              "      <td>0.013889</td>\n",
              "      <td>0.000000</td>\n",
              "      <td>0.10</td>\n",
              "      <td>1</td>\n",
              "      <td>0.000000</td>\n",
              "      <td>0</td>\n",
              "      <td>0</td>\n",
              "      <td>0</td>\n",
              "      <td>0</td>\n",
              "    </tr>\n",
              "    <tr>\n",
              "      <th>3</th>\n",
              "      <td>35</td>\n",
              "      <td>0.260870</td>\n",
              "      <td>0.425926</td>\n",
              "      <td>0.000000</td>\n",
              "      <td>0.27</td>\n",
              "      <td>2</td>\n",
              "      <td>0.000000</td>\n",
              "      <td>0</td>\n",
              "      <td>0</td>\n",
              "      <td>0</td>\n",
              "      <td>0</td>\n",
              "    </tr>\n",
              "    <tr>\n",
              "      <th>4</th>\n",
              "      <td>35</td>\n",
              "      <td>0.239130</td>\n",
              "      <td>0.171296</td>\n",
              "      <td>1.000000</td>\n",
              "      <td>0.10</td>\n",
              "      <td>2</td>\n",
              "      <td>0.000000</td>\n",
              "      <td>0</td>\n",
              "      <td>0</td>\n",
              "      <td>0</td>\n",
              "      <td>1</td>\n",
              "    </tr>\n",
              "    <tr>\n",
              "      <th>...</th>\n",
              "      <td>...</td>\n",
              "      <td>...</td>\n",
              "      <td>...</td>\n",
              "      <td>...</td>\n",
              "      <td>...</td>\n",
              "      <td>...</td>\n",
              "      <td>...</td>\n",
              "      <td>...</td>\n",
              "      <td>...</td>\n",
              "      <td>...</td>\n",
              "      <td>...</td>\n",
              "    </tr>\n",
              "    <tr>\n",
              "      <th>4995</th>\n",
              "      <td>29</td>\n",
              "      <td>0.130435</td>\n",
              "      <td>0.148148</td>\n",
              "      <td>0.000000</td>\n",
              "      <td>0.19</td>\n",
              "      <td>3</td>\n",
              "      <td>0.000000</td>\n",
              "      <td>0</td>\n",
              "      <td>0</td>\n",
              "      <td>0</td>\n",
              "      <td>0</td>\n",
              "    </tr>\n",
              "    <tr>\n",
              "      <th>4996</th>\n",
              "      <td>30</td>\n",
              "      <td>0.152174</td>\n",
              "      <td>0.032407</td>\n",
              "      <td>1.000000</td>\n",
              "      <td>0.04</td>\n",
              "      <td>1</td>\n",
              "      <td>0.133858</td>\n",
              "      <td>0</td>\n",
              "      <td>0</td>\n",
              "      <td>0</td>\n",
              "      <td>0</td>\n",
              "    </tr>\n",
              "    <tr>\n",
              "      <th>4997</th>\n",
              "      <td>63</td>\n",
              "      <td>0.913043</td>\n",
              "      <td>0.074074</td>\n",
              "      <td>0.333333</td>\n",
              "      <td>0.03</td>\n",
              "      <td>3</td>\n",
              "      <td>0.000000</td>\n",
              "      <td>0</td>\n",
              "      <td>0</td>\n",
              "      <td>0</td>\n",
              "      <td>0</td>\n",
              "    </tr>\n",
              "    <tr>\n",
              "      <th>4998</th>\n",
              "      <td>65</td>\n",
              "      <td>0.934783</td>\n",
              "      <td>0.189815</td>\n",
              "      <td>0.666667</td>\n",
              "      <td>0.05</td>\n",
              "      <td>2</td>\n",
              "      <td>0.000000</td>\n",
              "      <td>0</td>\n",
              "      <td>0</td>\n",
              "      <td>0</td>\n",
              "      <td>0</td>\n",
              "    </tr>\n",
              "    <tr>\n",
              "      <th>4999</th>\n",
              "      <td>28</td>\n",
              "      <td>0.152174</td>\n",
              "      <td>0.347222</td>\n",
              "      <td>0.666667</td>\n",
              "      <td>0.08</td>\n",
              "      <td>1</td>\n",
              "      <td>0.000000</td>\n",
              "      <td>0</td>\n",
              "      <td>0</td>\n",
              "      <td>0</td>\n",
              "      <td>1</td>\n",
              "    </tr>\n",
              "  </tbody>\n",
              "</table>\n",
              "<p>5000 rows × 11 columns</p>\n",
              "</div>"
            ],
            "text/plain": [
              "      Age  Experience    Income    Family  CCAvg  Education  Mortgage  \\\n",
              "0      25    0.086957  0.189815  1.000000   0.16          1  0.000000   \n",
              "1      45    0.478261  0.120370  0.666667   0.15          1  0.000000   \n",
              "2      39    0.391304  0.013889  0.000000   0.10          1  0.000000   \n",
              "3      35    0.260870  0.425926  0.000000   0.27          2  0.000000   \n",
              "4      35    0.239130  0.171296  1.000000   0.10          2  0.000000   \n",
              "...   ...         ...       ...       ...    ...        ...       ...   \n",
              "4995   29    0.130435  0.148148  0.000000   0.19          3  0.000000   \n",
              "4996   30    0.152174  0.032407  1.000000   0.04          1  0.133858   \n",
              "4997   63    0.913043  0.074074  0.333333   0.03          3  0.000000   \n",
              "4998   65    0.934783  0.189815  0.666667   0.05          2  0.000000   \n",
              "4999   28    0.152174  0.347222  0.666667   0.08          1  0.000000   \n",
              "\n",
              "      Personal Loan  Securities Account  CD Account  CreditCard  \n",
              "0                 0                   1           0           0  \n",
              "1                 0                   1           0           0  \n",
              "2                 0                   0           0           0  \n",
              "3                 0                   0           0           0  \n",
              "4                 0                   0           0           1  \n",
              "...             ...                 ...         ...         ...  \n",
              "4995              0                   0           0           0  \n",
              "4996              0                   0           0           0  \n",
              "4997              0                   0           0           0  \n",
              "4998              0                   0           0           0  \n",
              "4999              0                   0           0           1  \n",
              "\n",
              "[5000 rows x 11 columns]"
            ]
          },
          "execution_count": 187,
          "metadata": {},
          "output_type": "execute_result"
        }
      ],
      "source": [
        "df[['Experience', 'Income', 'Family', 'CCAvg', 'Mortgage']] = minmax_scale(df[['Experience', 'Income', 'Family', 'CCAvg', 'Mortgage']])\n",
        "df"
      ]
    },
    {
      "cell_type": "markdown",
      "id": "34031921",
      "metadata": {
        "id": "34031921"
      },
      "source": [
        "**Respuesta** Es importante  normalizar las columnas del dataset por  varias razones: Primero no permite reducir la escala de los datos a valores entre 0 y 1, lo que permite a los modelos ser mas eficientes y eficaces ya que muechas tecnias de ML con sensibles a las diferencias de escala. Tambien permite comparar los resultados con otros modelos, o combinarlos con otros dataset que se encuentre en distintas unidades. Por ejemplo al comparar o juntar con otra tabla o modelo que se haya entrenado con CLP en vez de USD, ya que al reducir estas variables a valore de entre 1 y 0, permite estas comparaciones."
      ]
    },
    {
      "cell_type": "markdown",
      "id": "Ue7y2ARTc7aw",
      "metadata": {
        "id": "Ue7y2ARTc7aw"
      },
      "source": [
        "# Parte 2: Isolation Forest (15 puntos)"
      ]
    },
    {
      "cell_type": "markdown",
      "id": "M2zPfidlc-vb",
      "metadata": {
        "id": "M2zPfidlc-vb"
      },
      "source": [
        "### 2.1 Reduzca la cantidad de componente reteniendo el 95% de la varianza (1 punto)"
      ]
    },
    {
      "cell_type": "code",
      "execution_count": 188,
      "id": "42ccc1ad",
      "metadata": {},
      "outputs": [
        {
          "data": {
            "text/plain": [
              "(5000, 1)"
            ]
          },
          "execution_count": 188,
          "metadata": {},
          "output_type": "execute_result"
        }
      ],
      "source": [
        "pca = PCA(0.95)\n",
        "X = pca.fit_transform(df)\n",
        "X.shape"
      ]
    },
    {
      "cell_type": "markdown",
      "id": "15te1baCdFJ3",
      "metadata": {
        "id": "15te1baCdFJ3"
      },
      "source": [
        "### 2.2 Utilizando 100 iTrees, cree una instancia de Isolation Forest. ¿Cuántos outliers detecta Isolation Forest y a qué clases verdaderas pertenecen? (3 puntos)"
      ]
    },
    {
      "cell_type": "code",
      "execution_count": 189,
      "id": "3d8d477b",
      "metadata": {},
      "outputs": [
        {
          "data": {
            "text/html": [
              "<style>#sk-container-id-15 {\n",
              "  /* Definition of color scheme common for light and dark mode */\n",
              "  --sklearn-color-text: black;\n",
              "  --sklearn-color-line: gray;\n",
              "  /* Definition of color scheme for unfitted estimators */\n",
              "  --sklearn-color-unfitted-level-0: #fff5e6;\n",
              "  --sklearn-color-unfitted-level-1: #f6e4d2;\n",
              "  --sklearn-color-unfitted-level-2: #ffe0b3;\n",
              "  --sklearn-color-unfitted-level-3: chocolate;\n",
              "  /* Definition of color scheme for fitted estimators */\n",
              "  --sklearn-color-fitted-level-0: #f0f8ff;\n",
              "  --sklearn-color-fitted-level-1: #d4ebff;\n",
              "  --sklearn-color-fitted-level-2: #b3dbfd;\n",
              "  --sklearn-color-fitted-level-3: cornflowerblue;\n",
              "\n",
              "  /* Specific color for light theme */\n",
              "  --sklearn-color-text-on-default-background: var(--sg-text-color, var(--theme-code-foreground, var(--jp-content-font-color1, black)));\n",
              "  --sklearn-color-background: var(--sg-background-color, var(--theme-background, var(--jp-layout-color0, white)));\n",
              "  --sklearn-color-border-box: var(--sg-text-color, var(--theme-code-foreground, var(--jp-content-font-color1, black)));\n",
              "  --sklearn-color-icon: #696969;\n",
              "\n",
              "  @media (prefers-color-scheme: dark) {\n",
              "    /* Redefinition of color scheme for dark theme */\n",
              "    --sklearn-color-text-on-default-background: var(--sg-text-color, var(--theme-code-foreground, var(--jp-content-font-color1, white)));\n",
              "    --sklearn-color-background: var(--sg-background-color, var(--theme-background, var(--jp-layout-color0, #111)));\n",
              "    --sklearn-color-border-box: var(--sg-text-color, var(--theme-code-foreground, var(--jp-content-font-color1, white)));\n",
              "    --sklearn-color-icon: #878787;\n",
              "  }\n",
              "}\n",
              "\n",
              "#sk-container-id-15 {\n",
              "  color: var(--sklearn-color-text);\n",
              "}\n",
              "\n",
              "#sk-container-id-15 pre {\n",
              "  padding: 0;\n",
              "}\n",
              "\n",
              "#sk-container-id-15 input.sk-hidden--visually {\n",
              "  border: 0;\n",
              "  clip: rect(1px 1px 1px 1px);\n",
              "  clip: rect(1px, 1px, 1px, 1px);\n",
              "  height: 1px;\n",
              "  margin: -1px;\n",
              "  overflow: hidden;\n",
              "  padding: 0;\n",
              "  position: absolute;\n",
              "  width: 1px;\n",
              "}\n",
              "\n",
              "#sk-container-id-15 div.sk-dashed-wrapped {\n",
              "  border: 1px dashed var(--sklearn-color-line);\n",
              "  margin: 0 0.4em 0.5em 0.4em;\n",
              "  box-sizing: border-box;\n",
              "  padding-bottom: 0.4em;\n",
              "  background-color: var(--sklearn-color-background);\n",
              "}\n",
              "\n",
              "#sk-container-id-15 div.sk-container {\n",
              "  /* jupyter's `normalize.less` sets `[hidden] { display: none; }`\n",
              "     but bootstrap.min.css set `[hidden] { display: none !important; }`\n",
              "     so we also need the `!important` here to be able to override the\n",
              "     default hidden behavior on the sphinx rendered scikit-learn.org.\n",
              "     See: https://github.com/scikit-learn/scikit-learn/issues/21755 */\n",
              "  display: inline-block !important;\n",
              "  position: relative;\n",
              "}\n",
              "\n",
              "#sk-container-id-15 div.sk-text-repr-fallback {\n",
              "  display: none;\n",
              "}\n",
              "\n",
              "div.sk-parallel-item,\n",
              "div.sk-serial,\n",
              "div.sk-item {\n",
              "  /* draw centered vertical line to link estimators */\n",
              "  background-image: linear-gradient(var(--sklearn-color-text-on-default-background), var(--sklearn-color-text-on-default-background));\n",
              "  background-size: 2px 100%;\n",
              "  background-repeat: no-repeat;\n",
              "  background-position: center center;\n",
              "}\n",
              "\n",
              "/* Parallel-specific style estimator block */\n",
              "\n",
              "#sk-container-id-15 div.sk-parallel-item::after {\n",
              "  content: \"\";\n",
              "  width: 100%;\n",
              "  border-bottom: 2px solid var(--sklearn-color-text-on-default-background);\n",
              "  flex-grow: 1;\n",
              "}\n",
              "\n",
              "#sk-container-id-15 div.sk-parallel {\n",
              "  display: flex;\n",
              "  align-items: stretch;\n",
              "  justify-content: center;\n",
              "  background-color: var(--sklearn-color-background);\n",
              "  position: relative;\n",
              "}\n",
              "\n",
              "#sk-container-id-15 div.sk-parallel-item {\n",
              "  display: flex;\n",
              "  flex-direction: column;\n",
              "}\n",
              "\n",
              "#sk-container-id-15 div.sk-parallel-item:first-child::after {\n",
              "  align-self: flex-end;\n",
              "  width: 50%;\n",
              "}\n",
              "\n",
              "#sk-container-id-15 div.sk-parallel-item:last-child::after {\n",
              "  align-self: flex-start;\n",
              "  width: 50%;\n",
              "}\n",
              "\n",
              "#sk-container-id-15 div.sk-parallel-item:only-child::after {\n",
              "  width: 0;\n",
              "}\n",
              "\n",
              "/* Serial-specific style estimator block */\n",
              "\n",
              "#sk-container-id-15 div.sk-serial {\n",
              "  display: flex;\n",
              "  flex-direction: column;\n",
              "  align-items: center;\n",
              "  background-color: var(--sklearn-color-background);\n",
              "  padding-right: 1em;\n",
              "  padding-left: 1em;\n",
              "}\n",
              "\n",
              "\n",
              "/* Toggleable style: style used for estimator/Pipeline/ColumnTransformer box that is\n",
              "clickable and can be expanded/collapsed.\n",
              "- Pipeline and ColumnTransformer use this feature and define the default style\n",
              "- Estimators will overwrite some part of the style using the `sk-estimator` class\n",
              "*/\n",
              "\n",
              "/* Pipeline and ColumnTransformer style (default) */\n",
              "\n",
              "#sk-container-id-15 div.sk-toggleable {\n",
              "  /* Default theme specific background. It is overwritten whether we have a\n",
              "  specific estimator or a Pipeline/ColumnTransformer */\n",
              "  background-color: var(--sklearn-color-background);\n",
              "}\n",
              "\n",
              "/* Toggleable label */\n",
              "#sk-container-id-15 label.sk-toggleable__label {\n",
              "  cursor: pointer;\n",
              "  display: block;\n",
              "  width: 100%;\n",
              "  margin-bottom: 0;\n",
              "  padding: 0.5em;\n",
              "  box-sizing: border-box;\n",
              "  text-align: center;\n",
              "}\n",
              "\n",
              "#sk-container-id-15 label.sk-toggleable__label-arrow:before {\n",
              "  /* Arrow on the left of the label */\n",
              "  content: \"▸\";\n",
              "  float: left;\n",
              "  margin-right: 0.25em;\n",
              "  color: var(--sklearn-color-icon);\n",
              "}\n",
              "\n",
              "#sk-container-id-15 label.sk-toggleable__label-arrow:hover:before {\n",
              "  color: var(--sklearn-color-text);\n",
              "}\n",
              "\n",
              "/* Toggleable content - dropdown */\n",
              "\n",
              "#sk-container-id-15 div.sk-toggleable__content {\n",
              "  max-height: 0;\n",
              "  max-width: 0;\n",
              "  overflow: hidden;\n",
              "  text-align: left;\n",
              "  /* unfitted */\n",
              "  background-color: var(--sklearn-color-unfitted-level-0);\n",
              "}\n",
              "\n",
              "#sk-container-id-15 div.sk-toggleable__content.fitted {\n",
              "  /* fitted */\n",
              "  background-color: var(--sklearn-color-fitted-level-0);\n",
              "}\n",
              "\n",
              "#sk-container-id-15 div.sk-toggleable__content pre {\n",
              "  margin: 0.2em;\n",
              "  border-radius: 0.25em;\n",
              "  color: var(--sklearn-color-text);\n",
              "  /* unfitted */\n",
              "  background-color: var(--sklearn-color-unfitted-level-0);\n",
              "}\n",
              "\n",
              "#sk-container-id-15 div.sk-toggleable__content.fitted pre {\n",
              "  /* unfitted */\n",
              "  background-color: var(--sklearn-color-fitted-level-0);\n",
              "}\n",
              "\n",
              "#sk-container-id-15 input.sk-toggleable__control:checked~div.sk-toggleable__content {\n",
              "  /* Expand drop-down */\n",
              "  max-height: 200px;\n",
              "  max-width: 100%;\n",
              "  overflow: auto;\n",
              "}\n",
              "\n",
              "#sk-container-id-15 input.sk-toggleable__control:checked~label.sk-toggleable__label-arrow:before {\n",
              "  content: \"▾\";\n",
              "}\n",
              "\n",
              "/* Pipeline/ColumnTransformer-specific style */\n",
              "\n",
              "#sk-container-id-15 div.sk-label input.sk-toggleable__control:checked~label.sk-toggleable__label {\n",
              "  color: var(--sklearn-color-text);\n",
              "  background-color: var(--sklearn-color-unfitted-level-2);\n",
              "}\n",
              "\n",
              "#sk-container-id-15 div.sk-label.fitted input.sk-toggleable__control:checked~label.sk-toggleable__label {\n",
              "  background-color: var(--sklearn-color-fitted-level-2);\n",
              "}\n",
              "\n",
              "/* Estimator-specific style */\n",
              "\n",
              "/* Colorize estimator box */\n",
              "#sk-container-id-15 div.sk-estimator input.sk-toggleable__control:checked~label.sk-toggleable__label {\n",
              "  /* unfitted */\n",
              "  background-color: var(--sklearn-color-unfitted-level-2);\n",
              "}\n",
              "\n",
              "#sk-container-id-15 div.sk-estimator.fitted input.sk-toggleable__control:checked~label.sk-toggleable__label {\n",
              "  /* fitted */\n",
              "  background-color: var(--sklearn-color-fitted-level-2);\n",
              "}\n",
              "\n",
              "#sk-container-id-15 div.sk-label label.sk-toggleable__label,\n",
              "#sk-container-id-15 div.sk-label label {\n",
              "  /* The background is the default theme color */\n",
              "  color: var(--sklearn-color-text-on-default-background);\n",
              "}\n",
              "\n",
              "/* On hover, darken the color of the background */\n",
              "#sk-container-id-15 div.sk-label:hover label.sk-toggleable__label {\n",
              "  color: var(--sklearn-color-text);\n",
              "  background-color: var(--sklearn-color-unfitted-level-2);\n",
              "}\n",
              "\n",
              "/* Label box, darken color on hover, fitted */\n",
              "#sk-container-id-15 div.sk-label.fitted:hover label.sk-toggleable__label.fitted {\n",
              "  color: var(--sklearn-color-text);\n",
              "  background-color: var(--sklearn-color-fitted-level-2);\n",
              "}\n",
              "\n",
              "/* Estimator label */\n",
              "\n",
              "#sk-container-id-15 div.sk-label label {\n",
              "  font-family: monospace;\n",
              "  font-weight: bold;\n",
              "  display: inline-block;\n",
              "  line-height: 1.2em;\n",
              "}\n",
              "\n",
              "#sk-container-id-15 div.sk-label-container {\n",
              "  text-align: center;\n",
              "}\n",
              "\n",
              "/* Estimator-specific */\n",
              "#sk-container-id-15 div.sk-estimator {\n",
              "  font-family: monospace;\n",
              "  border: 1px dotted var(--sklearn-color-border-box);\n",
              "  border-radius: 0.25em;\n",
              "  box-sizing: border-box;\n",
              "  margin-bottom: 0.5em;\n",
              "  /* unfitted */\n",
              "  background-color: var(--sklearn-color-unfitted-level-0);\n",
              "}\n",
              "\n",
              "#sk-container-id-15 div.sk-estimator.fitted {\n",
              "  /* fitted */\n",
              "  background-color: var(--sklearn-color-fitted-level-0);\n",
              "}\n",
              "\n",
              "/* on hover */\n",
              "#sk-container-id-15 div.sk-estimator:hover {\n",
              "  /* unfitted */\n",
              "  background-color: var(--sklearn-color-unfitted-level-2);\n",
              "}\n",
              "\n",
              "#sk-container-id-15 div.sk-estimator.fitted:hover {\n",
              "  /* fitted */\n",
              "  background-color: var(--sklearn-color-fitted-level-2);\n",
              "}\n",
              "\n",
              "/* Specification for estimator info (e.g. \"i\" and \"?\") */\n",
              "\n",
              "/* Common style for \"i\" and \"?\" */\n",
              "\n",
              ".sk-estimator-doc-link,\n",
              "a:link.sk-estimator-doc-link,\n",
              "a:visited.sk-estimator-doc-link {\n",
              "  float: right;\n",
              "  font-size: smaller;\n",
              "  line-height: 1em;\n",
              "  font-family: monospace;\n",
              "  background-color: var(--sklearn-color-background);\n",
              "  border-radius: 1em;\n",
              "  height: 1em;\n",
              "  width: 1em;\n",
              "  text-decoration: none !important;\n",
              "  margin-left: 1ex;\n",
              "  /* unfitted */\n",
              "  border: var(--sklearn-color-unfitted-level-1) 1pt solid;\n",
              "  color: var(--sklearn-color-unfitted-level-1);\n",
              "}\n",
              "\n",
              ".sk-estimator-doc-link.fitted,\n",
              "a:link.sk-estimator-doc-link.fitted,\n",
              "a:visited.sk-estimator-doc-link.fitted {\n",
              "  /* fitted */\n",
              "  border: var(--sklearn-color-fitted-level-1) 1pt solid;\n",
              "  color: var(--sklearn-color-fitted-level-1);\n",
              "}\n",
              "\n",
              "/* On hover */\n",
              "div.sk-estimator:hover .sk-estimator-doc-link:hover,\n",
              ".sk-estimator-doc-link:hover,\n",
              "div.sk-label-container:hover .sk-estimator-doc-link:hover,\n",
              ".sk-estimator-doc-link:hover {\n",
              "  /* unfitted */\n",
              "  background-color: var(--sklearn-color-unfitted-level-3);\n",
              "  color: var(--sklearn-color-background);\n",
              "  text-decoration: none;\n",
              "}\n",
              "\n",
              "div.sk-estimator.fitted:hover .sk-estimator-doc-link.fitted:hover,\n",
              ".sk-estimator-doc-link.fitted:hover,\n",
              "div.sk-label-container:hover .sk-estimator-doc-link.fitted:hover,\n",
              ".sk-estimator-doc-link.fitted:hover {\n",
              "  /* fitted */\n",
              "  background-color: var(--sklearn-color-fitted-level-3);\n",
              "  color: var(--sklearn-color-background);\n",
              "  text-decoration: none;\n",
              "}\n",
              "\n",
              "/* Span, style for the box shown on hovering the info icon */\n",
              ".sk-estimator-doc-link span {\n",
              "  display: none;\n",
              "  z-index: 9999;\n",
              "  position: relative;\n",
              "  font-weight: normal;\n",
              "  right: .2ex;\n",
              "  padding: .5ex;\n",
              "  margin: .5ex;\n",
              "  width: min-content;\n",
              "  min-width: 20ex;\n",
              "  max-width: 50ex;\n",
              "  color: var(--sklearn-color-text);\n",
              "  box-shadow: 2pt 2pt 4pt #999;\n",
              "  /* unfitted */\n",
              "  background: var(--sklearn-color-unfitted-level-0);\n",
              "  border: .5pt solid var(--sklearn-color-unfitted-level-3);\n",
              "}\n",
              "\n",
              ".sk-estimator-doc-link.fitted span {\n",
              "  /* fitted */\n",
              "  background: var(--sklearn-color-fitted-level-0);\n",
              "  border: var(--sklearn-color-fitted-level-3);\n",
              "}\n",
              "\n",
              ".sk-estimator-doc-link:hover span {\n",
              "  display: block;\n",
              "}\n",
              "\n",
              "/* \"?\"-specific style due to the `<a>` HTML tag */\n",
              "\n",
              "#sk-container-id-15 a.estimator_doc_link {\n",
              "  float: right;\n",
              "  font-size: 1rem;\n",
              "  line-height: 1em;\n",
              "  font-family: monospace;\n",
              "  background-color: var(--sklearn-color-background);\n",
              "  border-radius: 1rem;\n",
              "  height: 1rem;\n",
              "  width: 1rem;\n",
              "  text-decoration: none;\n",
              "  /* unfitted */\n",
              "  color: var(--sklearn-color-unfitted-level-1);\n",
              "  border: var(--sklearn-color-unfitted-level-1) 1pt solid;\n",
              "}\n",
              "\n",
              "#sk-container-id-15 a.estimator_doc_link.fitted {\n",
              "  /* fitted */\n",
              "  border: var(--sklearn-color-fitted-level-1) 1pt solid;\n",
              "  color: var(--sklearn-color-fitted-level-1);\n",
              "}\n",
              "\n",
              "/* On hover */\n",
              "#sk-container-id-15 a.estimator_doc_link:hover {\n",
              "  /* unfitted */\n",
              "  background-color: var(--sklearn-color-unfitted-level-3);\n",
              "  color: var(--sklearn-color-background);\n",
              "  text-decoration: none;\n",
              "}\n",
              "\n",
              "#sk-container-id-15 a.estimator_doc_link.fitted:hover {\n",
              "  /* fitted */\n",
              "  background-color: var(--sklearn-color-fitted-level-3);\n",
              "}\n",
              "</style><div id=\"sk-container-id-15\" class=\"sk-top-container\"><div class=\"sk-text-repr-fallback\"><pre>IsolationForest(random_state=0)</pre><b>In a Jupyter environment, please rerun this cell to show the HTML representation or trust the notebook. <br />On GitHub, the HTML representation is unable to render, please try loading this page with nbviewer.org.</b></div><div class=\"sk-container\" hidden><div class=\"sk-item\"><div class=\"sk-estimator fitted sk-toggleable\"><input class=\"sk-toggleable__control sk-hidden--visually\" id=\"sk-estimator-id-15\" type=\"checkbox\" checked><label for=\"sk-estimator-id-15\" class=\"sk-toggleable__label fitted sk-toggleable__label-arrow fitted\">&nbsp;&nbsp;IsolationForest<a class=\"sk-estimator-doc-link fitted\" rel=\"noreferrer\" target=\"_blank\" href=\"https://scikit-learn.org/1.5/modules/generated/sklearn.ensemble.IsolationForest.html\">?<span>Documentation for IsolationForest</span></a><span class=\"sk-estimator-doc-link fitted\">i<span>Fitted</span></span></label><div class=\"sk-toggleable__content fitted\"><pre>IsolationForest(random_state=0)</pre></div> </div></div></div></div>"
            ],
            "text/plain": [
              "IsolationForest(random_state=0)"
            ]
          },
          "execution_count": 189,
          "metadata": {},
          "output_type": "execute_result"
        }
      ],
      "source": [
        "clf = IsolationForest(random_state=0, n_estimators=100)\n",
        "clf.fit(X)"
      ]
    },
    {
      "cell_type": "code",
      "execution_count": 190,
      "id": "e0090573",
      "metadata": {},
      "outputs": [
        {
          "name": "stdout",
          "output_type": "stream",
          "text": [
            "4003\n"
          ]
        },
        {
          "data": {
            "text/plain": [
              "array([[-20.3459281 ],\n",
              "       [ -0.34168225],\n",
              "       [ -6.34092513],\n",
              "       ...,\n",
              "       [ 17.67014586],\n",
              "       [ 19.66644025],\n",
              "       [-17.344504  ]])"
            ]
          },
          "execution_count": 190,
          "metadata": {},
          "output_type": "execute_result"
        }
      ],
      "source": [
        "y_pred = clf.predict(X)  # Devuelve array con 1 (normal) y -1 (outlier)\n",
        "print(len(X[y_pred == -1]))\n",
        "X[y_pred == -1]"
      ]
    },
    {
      "cell_type": "code",
      "execution_count": 191,
      "id": "d03a55c2",
      "metadata": {},
      "outputs": [
        {
          "name": "stdout",
          "output_type": "stream",
          "text": [
            "Clases verdaderas de los outliers:\n",
            "Personal Loan\n",
            "0    3610\n",
            "1     393\n",
            "Name: count, dtype: int64\n"
          ]
        }
      ],
      "source": [
        "outliers_mask = (y_pred == -1)  # Máscara booleana para outliers\n",
        "outliers_classes = df.loc[outliers_mask, 'Personal Loan'].value_counts()\n",
        "print(\"Clases verdaderas de los outliers:\")\n",
        "print(outliers_classes)"
      ]
    },
    {
      "cell_type": "markdown",
      "id": "f5fdeb16",
      "metadata": {},
      "source": [
        "3060 outliers con de la clase 0, No aceptaron un prestamo\n",
        "\n",
        "318 outliers con de la clase 1, Si aceptaron un prestamo"
      ]
    },
    {
      "cell_type": "markdown",
      "id": "KX8DcT1MrKrF",
      "metadata": {
        "id": "KX8DcT1MrKrF"
      },
      "source": [
        "### 2.3 ¿Como cambia el numero de de outliers detectados al variar el parametro ```contamination```? Utilize los valores ```[0.01, 0.05, 0.1, 0.2]``` (3 puntos)\n"
      ]
    },
    {
      "cell_type": "code",
      "execution_count": 192,
      "id": "15bb1a0a",
      "metadata": {},
      "outputs": [
        {
          "name": "stdout",
          "output_type": "stream",
          "text": [
            "\n",
            "Contaminación: 0.01\n",
            "Cantidad de Outliers:48\n",
            "Personal Loan\n",
            "0    48\n",
            "Name: count, dtype: int64\n",
            "________________________________________\n",
            "\n",
            "Contaminación: 0.05\n",
            "Cantidad de Outliers:249\n",
            "Personal Loan\n",
            "0    233\n",
            "1     16\n",
            "Name: count, dtype: int64\n",
            "________________________________________\n",
            "\n",
            "Contaminación: 0.1\n",
            "Cantidad de Outliers:500\n",
            "Personal Loan\n",
            "0    445\n",
            "1     55\n",
            "Name: count, dtype: int64\n",
            "________________________________________\n",
            "\n",
            "Contaminación: 0.2\n",
            "Cantidad de Outliers:999\n",
            "Personal Loan\n",
            "0    898\n",
            "1    101\n",
            "Name: count, dtype: int64\n",
            "________________________________________\n"
          ]
        }
      ],
      "source": [
        "resultados = []\n",
        "for contamination in [0.01, 0.05, 0.1, 0.2]:\n",
        "    print(f\"\\nContaminación: {contamination}\")\n",
        "    clf = IsolationForest(random_state=0, n_estimators=100, contamination=contamination).fit(X)\n",
        "    y_pred = clf.predict(X)  # Devuelve array con 1 (normal) y -1 (outlier)\n",
        "    print(f'Cantidad de Outliers:{len(X[y_pred == -1])}')\n",
        "    outliers_mask = (y_pred == -1)  # Máscara booleana para outliers\n",
        "    outliers_classes = df.loc[outliers_mask, 'Personal Loan'].value_counts()\n",
        "    print(outliers_classes)\n",
        "    print(\"_\"*40)\n",
        "    scores = clf.score_samples(X)\n",
        "    resultados.append([clf, scores])"
      ]
    },
    {
      "cell_type": "markdown",
      "id": "Yt4UgSJ-GiJl",
      "metadata": {
        "id": "Yt4UgSJ-GiJl"
      },
      "source": [
        "Respuesta: Podemos ver en los resultados, que a medida que aumenta la contaminacion, tambien aumentan la cantidad de outliers detectados"
      ]
    },
    {
      "cell_type": "markdown",
      "id": "7tDc5DBurfAC",
      "metadata": {
        "id": "7tDc5DBurfAC"
      },
      "source": [
        "### 2.4 Grafique los \"anomaly scores\" e indique si se ve un umbral claro (2 puntos)"
      ]
    },
    {
      "cell_type": "code",
      "execution_count": 193,
      "id": "5129800e",
      "metadata": {},
      "outputs": [],
      "source": [
        "# Calcular scores de anomalía (más negativo = más anómalo)\n",
        "anomaly_scores = clf.score_samples(X)  # Usa el último modelo entrenado (ej: contamination=0.01)"
      ]
    },
    {
      "cell_type": "code",
      "execution_count": 194,
      "id": "f2dbcc3d",
      "metadata": {},
      "outputs": [
        {
          "data": {
            "image/png": "[encoded data removed]",
            "text/plain": [
              "<Figure size 600x300 with 1 Axes>"
            ]
          },
          "metadata": {},
          "output_type": "display_data"
        }
      ],
      "source": [
        "import seaborn as sns\n",
        "\n",
        "plt.figure(figsize=(6, 3))\n",
        "sns.kdeplot(anomaly_scores, fill=True)\n",
        "plt.title(\"Densidad de Anomaly Scores\")\n",
        "plt.xlabel(\"Score (más negativo = más anómalo)\")\n",
        "plt.axvline(x=np.mean(anomaly_scores), color='r', linestyle='--', label='Media')\n",
        "plt.legend()\n",
        "plt.show()"
      ]
    },
    {
      "cell_type": "code",
      "execution_count": 195,
      "id": "25704115",
      "metadata": {},
      "outputs": [
        {
          "name": "stdout",
          "output_type": "stream",
          "text": [
            "-0.5202024091996648\n"
          ]
        },
        {
          "data": {
            "image/png": "[encoded data removed]",
            "text/plain": [
              "<Figure size 600x300 with 1 Axes>"
            ]
          },
          "metadata": {},
          "output_type": "display_data"
        },
        {
          "name": "stdout",
          "output_type": "stream",
          "text": [
            "-0.5202024091996648\n"
          ]
        },
        {
          "data": {
            "image/png": "[encoded data removed]",
            "text/plain": [
              "<Figure size 600x300 with 1 Axes>"
            ]
          },
          "metadata": {},
          "output_type": "display_data"
        },
        {
          "name": "stdout",
          "output_type": "stream",
          "text": [
            "-0.5202024091996648\n"
          ]
        },
        {
          "data": {
            "image/png": "[encoded data removed]",
            "text/plain": [
              "<Figure size 600x300 with 1 Axes>"
            ]
          },
          "metadata": {},
          "output_type": "display_data"
        },
        {
          "name": "stdout",
          "output_type": "stream",
          "text": [
            "-0.5202024091996648\n"
          ]
        },
        {
          "data": {
            "image/png": "[encoded data removed]",
            "text/plain": [
              "<Figure size 600x300 with 1 Axes>"
            ]
          },
          "metadata": {},
          "output_type": "display_data"
        }
      ],
      "source": [
        "for r in resultados:\n",
        "    clf = r[0]\n",
        "    scores = r[1]\n",
        "    contamination = clf.contamination\n",
        "    plt.figure(figsize=(6, 3))\n",
        "    sns.kdeplot(anomaly_scores, fill=True)\n",
        "    plt.title(\"Densidad de Anomaly Scores con contaminación = {}\".format(contamination))\n",
        "    plt.xlabel(\"Score (más negativo = más anómalo)\")\n",
        "    plt.axvline(x=np.mean(scores), color='r', linestyle='--', label='Media')\n",
        "    print(np.mean(scores))\n",
        "    plt.legend()\n",
        "    plt.show()"
      ]
    },
    {
      "cell_type": "code",
      "execution_count": 196,
      "id": "2a482122",
      "metadata": {},
      "outputs": [
        {
          "data": {
            "text/plain": [
              "<matplotlib.lines.Line2D at 0x1cdbba18350>"
            ]
          },
          "execution_count": 196,
          "metadata": {},
          "output_type": "execute_result"
        },
        {
          "data": {
            "image/png": "[encoded data removed]",
            "text/plain": [
              "<Figure size 640x480 with 1 Axes>"
            ]
          },
          "metadata": {},
          "output_type": "display_data"
        }
      ],
      "source": [
        "# Si hay bimodalidad, puedes marcar el umbral manualmente\n",
        "threshold = -0.5  # Ejemplo: valores < -0.5 son outliers\n",
        "plt.axvline(x=threshold, color='g', linestyle=':', label='Umbral propuesto')"
      ]
    },
    {
      "cell_type": "markdown",
      "id": "P1br2mrXrl24",
      "metadata": {
        "id": "P1br2mrXrl24"
      },
      "source": [
        "### 2.5 Que tan estable es la detección de outliers si cambiamos la cantidad de arboles (```n_estimators```) (4 puntos)"
      ]
    },
    {
      "cell_type": "markdown",
      "id": "cuIMGNIGr0en",
      "metadata": {
        "id": "cuIMGNIGr0en"
      },
      "source": [
        "### 2.6 Grafique los utliers detectados en las primeras dos componentes principales. (Utilize parametro ```alpha=0.6```) (2 puntos)"
      ]
    },
    {
      "cell_type": "markdown",
      "id": "SP6S4bdSryx4",
      "metadata": {
        "id": "SP6S4bdSryx4"
      },
      "source": []
    },
    {
      "cell_type": "markdown",
      "id": "9ba5fe32",
      "metadata": {
        "id": "9ba5fe32"
      },
      "source": [
        "# Parte 3: HAC (15 puntos)"
      ]
    },
    {
      "cell_type": "markdown",
      "id": "a88e17c3",
      "metadata": {
        "id": "a88e17c3"
      },
      "source": [
        "### 3.1 Reliza un dendograma sin clusters y con distancia threshold igual a 0 para visualizar los datos. Debes usar linkage = \"single\" (1 punto)"
      ]
    },
    {
      "cell_type": "markdown",
      "id": "0dc5715a",
      "metadata": {
        "id": "0dc5715a"
      },
      "source": [
        "### 3.2.1 Realiza los Clustering de Agrupación Jerarquica (HAC) para cada distancia de clustering aglomerativo (linkage), prueba utilizando número de clusters entre 2 y 10. Calcula el Silhouette para ver cual funcionó mejor y explica el por qué de los resultados. (2.5 puntos)\n",
        "### 3.2.2 Ahora, realiza los Clustering de Agrupación Jerarquica (HAC) para cada tipo de linkage."
      ]
    },
    {
      "cell_type": "markdown",
      "id": "S3hGR1Z4Rrf7",
      "metadata": {
        "id": "S3hGR1Z4Rrf7"
      },
      "source": [
        "Se espera que expliquen cuál funcionó mejor"
      ]
    },
    {
      "cell_type": "markdown",
      "id": "da7f4c75",
      "metadata": {
        "id": "da7f4c75"
      },
      "source": [
        "### 3.3 Calcula el Silhouette para ver cual funcionó mejor y explica el por qué de los resultados, explicando cómo funciona cada linkage.\n"
      ]
    },
    {
      "cell_type": "markdown",
      "id": "31f43ba2",
      "metadata": {
        "id": "31f43ba2"
      },
      "source": [
        "### 3.4 Grafica los clusters utilizando un PCA de 2 dimensiones de los datos. Para ello debes utilizar la mejor combinación del enunciado anterior(1 punto)\n",
        "\n",
        "\n",
        "\n",
        "\n"
      ]
    },
    {
      "cell_type": "markdown",
      "id": "5d8826e0",
      "metadata": {
        "id": "5d8826e0"
      },
      "source": [
        "Con el análisis realizado, ¿Cuál es la importancia del criterio de vinculación al momento de agrupar los datos? Pruebe ahora utilizando solamente dos clusters y compare los graficos."
      ]
    },
    {
      "cell_type": "markdown",
      "id": "yQnMX7iDTQDD",
      "metadata": {
        "id": "yQnMX7iDTQDD"
      },
      "source": [
        "Deben explicar que el de 20 clusters se ve menos compacto y que los colores indican la cantidad de clusters, pudiendo ver más diferencias en el de 20."
      ]
    },
    {
      "cell_type": "markdown",
      "id": "4571b0f0",
      "metadata": {
        "id": "4571b0f0"
      },
      "source": [
        "# Parte 4: DBSCAN y HDBSCAN (15 puntos)"
      ]
    },
    {
      "cell_type": "markdown",
      "id": "ff77645e",
      "metadata": {
        "id": "ff77645e"
      },
      "source": [
        "### 4.1.- DBSCAN\n",
        "\n",
        "Utilizando DBSCAN, itera sobre valores de eps entre 0.25 y 2, con un salto de 0.25 por iteracion. Ademas, itera sobre el numero minimo de muestras, probando con 1, 2, 3 y 4. (3 puntos)"
      ]
    },
    {
      "cell_type": "markdown",
      "id": "0e56e1cb",
      "metadata": {
        "id": "0e56e1cb"
      },
      "source": [
        "**RESPUESTA:**"
      ]
    },
    {
      "cell_type": "markdown",
      "id": "df5c7121",
      "metadata": {
        "id": "df5c7121"
      },
      "source": [
        "#### 4.1.2 Con la información de los parametros anterior, calcula cual es el número de clusters óptimo para el modelo DBSCAN. (1.5 puntos)"
      ]
    },
    {
      "cell_type": "markdown",
      "id": "2c81dda3",
      "metadata": {
        "id": "2c81dda3"
      },
      "source": [
        "**RESPUESTA:**"
      ]
    },
    {
      "cell_type": "markdown",
      "id": "8188c92b",
      "metadata": {
        "id": "8188c92b"
      },
      "source": [
        "#### 4.1.3 Determine tambien el valor optimo del parametro `eps` y `min_samples` (0.5 puntos)"
      ]
    },
    {
      "cell_type": "markdown",
      "id": "6603d673",
      "metadata": {
        "id": "6603d673"
      },
      "source": [
        "**RESPUESTA:**"
      ]
    },
    {
      "cell_type": "markdown",
      "id": "76b32057",
      "metadata": {
        "id": "76b32057"
      },
      "source": [
        "#### 4.1.4 Obtenga el numero de clusters utilizando los parametros optimos encontrados. Explique por qué podría haber encontrado ese valor, el cual se puede o no ajustar al número de clases en el dataset. (1 puntos)"
      ]
    },
    {
      "cell_type": "markdown",
      "id": "964a38b2",
      "metadata": {
        "id": "964a38b2"
      },
      "source": [
        "**RESPUESTA:**"
      ]
    },
    {
      "cell_type": "markdown",
      "id": "da53b25b",
      "metadata": {
        "id": "da53b25b"
      },
      "source": [
        "Se espera un analisis de ajuste de datos a clusters contra las clases. Puntaje por analisis y justificacion."
      ]
    },
    {
      "cell_type": "markdown",
      "id": "8b01a31b",
      "metadata": {
        "id": "8b01a31b"
      },
      "source": [
        "### 4.2.- HDBSCAN\n",
        "\n",
        "Utilizando HDSCAN, cree un modelo con el `cluster_selection_epsilon` igual al caso de DBSCAN y determine el número de clusters. Itere sobre el min_cluster_size para encontrar el mejor silhoutte score. Compare el resultado con DBSCAN.  (3 puntos)"
      ]
    },
    {
      "cell_type": "markdown",
      "id": "20d9a60d",
      "metadata": {
        "id": "20d9a60d"
      },
      "source": [
        "**RESPUESTA:**"
      ]
    },
    {
      "cell_type": "markdown",
      "id": "086e1163",
      "metadata": {
        "id": "086e1163"
      },
      "source": [
        "#### 4.2.2 Grafique los clusters utilizando PCA de 2 dimensiones. (1 punto)"
      ]
    },
    {
      "cell_type": "markdown",
      "id": "15bb1a56",
      "metadata": {
        "id": "15bb1a56"
      },
      "source": [
        "**RESPUESTA:**"
      ]
    },
    {
      "cell_type": "markdown",
      "id": "27c50ca0",
      "metadata": {
        "id": "27c50ca0"
      },
      "source": [
        "¿Que representa cada cluster?"
      ]
    },
    {
      "cell_type": "markdown",
      "id": "f67d53bf",
      "metadata": {
        "id": "f67d53bf"
      },
      "source": [
        "**RESPUESTA:**"
      ]
    },
    {
      "cell_type": "markdown",
      "id": "3455eb3f",
      "metadata": {
        "id": "3455eb3f"
      },
      "source": [
        "### 4.4 Preguntas teoricas sobre HAC, DBSCAN y HDBSCAN (5 puntos)"
      ]
    },
    {
      "cell_type": "markdown",
      "id": "2e5d2e0c",
      "metadata": {
        "id": "2e5d2e0c"
      },
      "source": [
        "#### 4.4.1 En tus palabras, ¿Cómo funciona el Agglomerative Clustering? Además, menciona al menos 2 usos para HAC."
      ]
    },
    {
      "cell_type": "markdown",
      "id": "bc49f141",
      "metadata": {
        "id": "bc49f141"
      },
      "source": [
        "**RESPUESTA:**"
      ]
    },
    {
      "cell_type": "markdown",
      "id": "4b86cbf5",
      "metadata": {
        "id": "4b86cbf5"
      },
      "source": [
        "#### 4.4.2 Explique que representa un dendograma, mencionando cómo las ramas principales podrían significar las clases del datset."
      ]
    },
    {
      "cell_type": "markdown",
      "id": "d0a99d8e",
      "metadata": {
        "id": "d0a99d8e"
      },
      "source": [
        "**RESPUESTA:**"
      ]
    },
    {
      "cell_type": "markdown",
      "id": "c67219d4",
      "metadata": {
        "id": "c67219d4"
      },
      "source": [
        "#### 4.4.3 En el contexto del modelo DBSCAN, ¿Que es un core sample? ¿Que podría representar un core sample en términos de un dato en el dataset? Apóyese en la clases y sus características."
      ]
    },
    {
      "cell_type": "markdown",
      "id": "722a4711",
      "metadata": {
        "id": "722a4711"
      },
      "source": [
        "**RESPUESTA:**"
      ]
    },
    {
      "cell_type": "markdown",
      "id": "c0683a7b",
      "metadata": {
        "id": "c0683a7b"
      },
      "source": [
        "#### 4.4.4 En el modelo de DBSCAN se iteran sobre distintos parametros; eps y min_samples. ¿Qué representan estos parametros?"
      ]
    },
    {
      "cell_type": "markdown",
      "id": "3a0973ad",
      "metadata": {
        "id": "3a0973ad"
      },
      "source": [
        "**RESPUESTA:**"
      ]
    },
    {
      "cell_type": "markdown",
      "id": "e279d3cc",
      "metadata": {
        "id": "e279d3cc"
      },
      "source": [
        "#### 4.4.5 ¿Cuál es la diferencia entre DBSCAN y HDBSCAN? ¿Qué beneficios existen de usar un modelo sobre el otro?"
      ]
    },
    {
      "cell_type": "markdown",
      "id": "96815fa4",
      "metadata": {
        "id": "96815fa4"
      },
      "source": [
        "**RESPUESTA:**"
      ]
    },
    {
      "cell_type": "markdown",
      "id": "831edeb0",
      "metadata": {
        "id": "831edeb0"
      },
      "source": [
        "**RESPUESTA:**"
      ]
    },
    {
      "cell_type": "markdown",
      "id": "3c3df732",
      "metadata": {
        "id": "3c3df732"
      },
      "source": [
        "**Respuesta**"
      ]
    },
    {
      "cell_type": "markdown",
      "id": "e75673d1",
      "metadata": {
        "id": "e75673d1"
      },
      "source": [
        "**Para esta sección, utilize el modelo con mejor silhouette score obtenido.**"
      ]
    },
    {
      "cell_type": "markdown",
      "id": "e037db95",
      "metadata": {
        "id": "e037db95"
      },
      "source": [
        "# Parte 5: Comparación y eficiencia (5 puntos)"
      ]
    },
    {
      "cell_type": "markdown",
      "id": "c46f6a3d",
      "metadata": {
        "id": "c46f6a3d"
      },
      "source": [
        "#### 5.1 ¿Cuál de los métodos de clustering resultó ser el más eficiente entre HAC, DBSCAN, HDBSCAN o Isolation Forest? Da una explicación de por qué se puede deber el resultado."
      ]
    },
    {
      "cell_type": "markdown",
      "id": "6c83bb6d",
      "metadata": {
        "id": "6c83bb6d"
      },
      "source": [
        "**Respuesta**"
      ]
    }
  ],
  "metadata": {
    "colab": {
      "provenance": []
    },
    "kernelspec": {
      "display_name": "Python 3",
      "language": "python",
      "name": "python3"
    },
    "language_info": {
      "codemirror_mode": {
        "name": "ipython",
        "version": 3
      },
      "file_extension": ".py",
      "mimetype": "text/x-python",
      "name": "python",
      "nbconvert_exporter": "python",
      "pygments_lexer": "ipython3",
      "version": "3.12.9"
    }
  },
  "nbformat": 4,
  "nbformat_minor": 5
}
