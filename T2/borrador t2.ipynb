{
 "cells": [
  {
   "cell_type": "code",
   "execution_count": null,
   "id": "a0a792eb",
   "metadata": {},
   "outputs": [],
   "source": [
    "for i in range(cantidad_imagenes):\n",
    "    # por cada imagen generar un lienzo con 2 histogramas separados\n",
    "    fig, ax = plt.subplots(1, 2, figsize=(8, 4))  # Create a figure with 1 row and 2 columns\n",
    "    \n",
    "    ax[0].hist(imagenes[i][\"X\"], bins=50, color='blue', alpha=0.7, label='X')\n",
    "    ax[0].set_title(f'Histograma de X - Imagen {i+1}')\n",
    "    ax[0].set_xlabel('Valor')\n",
    "    ax[0].set_ylabel('Frecuencia')\n",
    "    \n",
    "    ax[1].hist(imagenes[i][\"Y\"], bins=50, color='red', alpha=0.7, label='Y')\n",
    "    ax[1].set_title(f'Histograma de Y - Imagen {i+1}')\n",
    "    ax[1].set_xlabel('Valor')\n",
    "    ax[1].set_ylabel('Frecuencia')\n",
    "    \n",
    "    plt.tight_layout()\n",
    "    plt.show()"
   ]
  },
  {
   "cell_type": "code",
   "execution_count": null,
   "id": "9e9ad19b",
   "metadata": {},
   "outputs": [],
   "source": [
    "i = randint(0, cantidad_imagenes-1)\n",
    "fig, ax = plt.subplots(figsize=(7,7))\n",
    "ax.scatter(imagenes[i][\"X\"], imagenes[i][\"Y\"], c = 'black', s = 0.01)\n",
    "ax.set_xlabel('X', fontsize=15)\n",
    "ax.set_ylabel('Y', fontsize=15)\n",
    "ax.set_title('Coordenadas RA y DEC', fontsize=15)\n",
    "plt.show()"
   ]
  }
 ],
 "metadata": {
  "language_info": {
   "name": "python"
  }
 },
 "nbformat": 4,
 "nbformat_minor": 5
}
